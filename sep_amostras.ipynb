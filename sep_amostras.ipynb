{
 "cells": [
  {
   "cell_type": "markdown",
   "metadata": {},
   "source": [
    "# Bibliotecas "
   ]
  },
  {
   "cell_type": "code",
   "execution_count": 2,
   "metadata": {},
   "outputs": [
    {
     "name": "stdout",
     "output_type": "stream",
     "text": [
      "Requirement already satisfied: python-bcb in c:\\users\\pedro\\anaconda3\\lib\\site-packages (0.2.0)\n",
      "Requirement already satisfied: httpx<0.25.0,>=0.24.0 in c:\\users\\pedro\\anaconda3\\lib\\site-packages (from python-bcb) (0.24.1)\n",
      "Requirement already satisfied: lxml<5.0.0,>=4.9.2 in c:\\users\\pedro\\anaconda3\\lib\\site-packages (from python-bcb) (4.9.3)\n",
      "Requirement already satisfied: pandas<3.0.0,>=2.0.0 in c:\\users\\pedro\\anaconda3\\lib\\site-packages (from python-bcb) (2.1.4)\n",
      "Requirement already satisfied: requests<3.0.0,>=2.31.0 in c:\\users\\pedro\\anaconda3\\lib\\site-packages (from python-bcb) (2.31.0)\n",
      "Requirement already satisfied: certifi in c:\\users\\pedro\\anaconda3\\lib\\site-packages (from httpx<0.25.0,>=0.24.0->python-bcb) (2024.2.2)\n",
      "Requirement already satisfied: httpcore<0.18.0,>=0.15.0 in c:\\users\\pedro\\anaconda3\\lib\\site-packages (from httpx<0.25.0,>=0.24.0->python-bcb) (0.17.3)\n",
      "Requirement already satisfied: idna in c:\\users\\pedro\\anaconda3\\lib\\site-packages (from httpx<0.25.0,>=0.24.0->python-bcb) (3.4)\n",
      "Requirement already satisfied: sniffio in c:\\users\\pedro\\anaconda3\\lib\\site-packages (from httpx<0.25.0,>=0.24.0->python-bcb) (1.3.0)\n",
      "Requirement already satisfied: numpy<2,>=1.23.2 in c:\\users\\pedro\\anaconda3\\lib\\site-packages (from pandas<3.0.0,>=2.0.0->python-bcb) (1.26.4)\n",
      "Requirement already satisfied: python-dateutil>=2.8.2 in c:\\users\\pedro\\appdata\\roaming\\python\\python311\\site-packages (from pandas<3.0.0,>=2.0.0->python-bcb) (2.8.2)\n",
      "Requirement already satisfied: pytz>=2020.1 in c:\\users\\pedro\\anaconda3\\lib\\site-packages (from pandas<3.0.0,>=2.0.0->python-bcb) (2023.3.post1)\n",
      "Requirement already satisfied: tzdata>=2022.1 in c:\\users\\pedro\\anaconda3\\lib\\site-packages (from pandas<3.0.0,>=2.0.0->python-bcb) (2023.3)\n",
      "Requirement already satisfied: charset-normalizer<4,>=2 in c:\\users\\pedro\\anaconda3\\lib\\site-packages (from requests<3.0.0,>=2.31.0->python-bcb) (2.0.4)\n",
      "Requirement already satisfied: urllib3<3,>=1.21.1 in c:\\users\\pedro\\anaconda3\\lib\\site-packages (from requests<3.0.0,>=2.31.0->python-bcb) (2.0.7)\n",
      "Requirement already satisfied: h11<0.15,>=0.13 in c:\\users\\pedro\\anaconda3\\lib\\site-packages (from httpcore<0.18.0,>=0.15.0->httpx<0.25.0,>=0.24.0->python-bcb) (0.14.0)\n",
      "Requirement already satisfied: anyio<5.0,>=3.0 in c:\\users\\pedro\\anaconda3\\lib\\site-packages (from httpcore<0.18.0,>=0.15.0->httpx<0.25.0,>=0.24.0->python-bcb) (4.2.0)\n",
      "Requirement already satisfied: six>=1.5 in c:\\users\\pedro\\appdata\\roaming\\python\\python311\\site-packages (from python-dateutil>=2.8.2->pandas<3.0.0,>=2.0.0->python-bcb) (1.16.0)\n"
     ]
    }
   ],
   "source": [
    "!pip install python-bcb"
   ]
  },
  {
   "cell_type": "code",
   "execution_count": 20,
   "metadata": {},
   "outputs": [],
   "source": [
    "# Importar bibliotecas\n",
    "import pandas as pd\n",
    "from sklearn.model_selection import train_test_split\n",
    "from bcb import sgs\n",
    "import matplotlib.pyplot as plt\n"
   ]
  },
  {
   "cell_type": "markdown",
   "metadata": {},
   "source": [
    "# Dados"
   ]
  },
  {
   "cell_type": "code",
   "execution_count": 47,
   "metadata": {},
   "outputs": [
    {
     "data": {
      "text/html": [
       "<div>\n",
       "<style scoped>\n",
       "    .dataframe tbody tr th:only-of-type {\n",
       "        vertical-align: middle;\n",
       "    }\n",
       "\n",
       "    .dataframe tbody tr th {\n",
       "        vertical-align: top;\n",
       "    }\n",
       "\n",
       "    .dataframe thead th {\n",
       "        text-align: right;\n",
       "    }\n",
       "</style>\n",
       "<table border=\"1\" class=\"dataframe\">\n",
       "  <thead>\n",
       "    <tr style=\"text-align: right;\">\n",
       "      <th></th>\n",
       "      <th>ipca</th>\n",
       "      <th>const_empl</th>\n",
       "      <th>commer_empl</th>\n",
       "      <th>financial_empl</th>\n",
       "    </tr>\n",
       "    <tr>\n",
       "      <th>Date</th>\n",
       "      <th></th>\n",
       "      <th></th>\n",
       "      <th></th>\n",
       "      <th></th>\n",
       "    </tr>\n",
       "  </thead>\n",
       "  <tbody>\n",
       "    <tr>\n",
       "      <th>2010-01-01</th>\n",
       "      <td>0.75</td>\n",
       "      <td>2181133.0</td>\n",
       "      <td>7000217.0</td>\n",
       "      <td>811481.0</td>\n",
       "    </tr>\n",
       "    <tr>\n",
       "      <th>2010-02-01</th>\n",
       "      <td>0.78</td>\n",
       "      <td>2227256.0</td>\n",
       "      <td>7021417.0</td>\n",
       "      <td>814275.0</td>\n",
       "    </tr>\n",
       "    <tr>\n",
       "      <th>2010-03-01</th>\n",
       "      <td>0.52</td>\n",
       "      <td>2279041.0</td>\n",
       "      <td>7063125.0</td>\n",
       "      <td>817444.0</td>\n",
       "    </tr>\n",
       "    <tr>\n",
       "      <th>2010-04-01</th>\n",
       "      <td>0.57</td>\n",
       "      <td>2329774.0</td>\n",
       "      <td>7115389.0</td>\n",
       "      <td>821314.0</td>\n",
       "    </tr>\n",
       "    <tr>\n",
       "      <th>2010-05-01</th>\n",
       "      <td>0.43</td>\n",
       "      <td>2380684.0</td>\n",
       "      <td>7171936.0</td>\n",
       "      <td>826496.0</td>\n",
       "    </tr>\n",
       "  </tbody>\n",
       "</table>\n",
       "</div>"
      ],
      "text/plain": [
       "            ipca  const_empl  commer_empl  financial_empl\n",
       "Date                                                     \n",
       "2010-01-01  0.75   2181133.0    7000217.0        811481.0\n",
       "2010-02-01  0.78   2227256.0    7021417.0        814275.0\n",
       "2010-03-01  0.52   2279041.0    7063125.0        817444.0\n",
       "2010-04-01  0.57   2329774.0    7115389.0        821314.0\n",
       "2010-05-01  0.43   2380684.0    7171936.0        826496.0"
      ]
     },
     "execution_count": 47,
     "metadata": {},
     "output_type": "execute_result"
    }
   ],
   "source": [
    "# Importar dados\n",
    "tabela = sgs.get(\n",
    "    codes = {\"ipca\": 433,\n",
    "             \"const_empl\": 28770,\n",
    "             \"commer_empl\": 28771,\n",
    "             \"financial_empl\": 28776},\n",
    "    start= \"2010-01-01\",\n",
    "    end= \"2024-05-01\"\n",
    ")\n",
    "tabela.head()"
   ]
  },
  {
   "cell_type": "code",
   "execution_count": 48,
   "metadata": {},
   "outputs": [
    {
     "name": "stdout",
     "output_type": "stream",
     "text": [
      "            ipca  const_empl  commer_empl  financial_empl\n",
      "Date                                                     \n",
      "2010-09-01  0.45   2553013.0    7399034.0        848630.0\n",
      "2023-11-01  0.28   2824856.0   10256535.0       1058501.0\n",
      "2016-01-01  1.27   2477657.0    8827369.0        942528.0\n",
      "2012-02-01  0.45   2861160.0    8137543.0        903968.0\n",
      "2019-04-01  0.57   2027688.0    8796968.0        946387.0\n",
      "            ipca  const_empl  commer_empl  financial_empl\n",
      "Date                                                     \n",
      "2024-02-01  0.83   2829314.0   10224439.0       1063928.0\n",
      "2017-02-01  0.33   2080126.0    8616806.0        922834.0\n",
      "2011-02-01  0.80   2585367.0    7687144.0        870025.0\n",
      "2010-10-01  0.75   2574479.0    7494264.0        853111.0\n",
      "2016-10-01  0.26   2236784.0    8656528.0        935874.0\n"
     ]
    }
   ],
   "source": [
    "tabela_treino, tabela_teste = train_test_split(tabela,\n",
    "                                               train_size= 0.7,\n",
    "                                               test_size = 0.3,\n",
    "                                               random_state=1984)\n",
    "print(tabela_treino.tail())\n",
    "print(tabela_teste.tail())"
   ]
  },
  {
   "cell_type": "code",
   "execution_count": 49,
   "metadata": {},
   "outputs": [
    {
     "name": "stdout",
     "output_type": "stream",
     "text": [
      "['ipca', 'const_empl', 'commer_empl', 'financial_empl']\n"
     ]
    }
   ],
   "source": [
    "column_names = tabela_treino.columns\n",
    "print(column_names.tolist())"
   ]
  },
  {
   "cell_type": "code",
   "execution_count": 50,
   "metadata": {},
   "outputs": [
    {
     "data": {
      "image/png": "[encoded data removed]",
      "text/plain": [
       "<Figure size 640x480 with 1 Axes>"
      ]
     },
     "metadata": {},
     "output_type": "display_data"
    }
   ],
   "source": [
    "# Boxplot para verificar Outliers \n",
    "tabela_treino.boxplot(\"const_empl\")\n",
    "plt.show()"
   ]
  },
  {
   "cell_type": "code",
   "execution_count": 52,
   "metadata": {},
   "outputs": [
    {
     "data": {
      "image/png": "[encoded data removed]",
      "text/plain": [
       "<Figure size 640x480 with 1 Axes>"
      ]
     },
     "metadata": {},
     "output_type": "display_data"
    }
   ],
   "source": [
    "# Remoção de Outliers\n",
    "quantiles = tabela_treino.const_empl.quantile([0.25,0.75])\n",
    "iqr = quantiles[0.75] - quantiles[0.25]\n",
    "\n",
    "tabela_treino.query(\n",
    "    \"not const_empl< @quantiles[0.25] -1.5 * @iqr and not const_empl > @quantiles[0.25] + 1.5 * @iqr\"\n",
    ").boxplot(\"const_empl\")\n",
    "plt.show()"
   ]
  },
  {
   "cell_type": "code",
   "execution_count": 53,
   "metadata": {},
   "outputs": [
    {
     "data": {
      "text/plain": [
       "0.008333333333333333"
      ]
     },
     "execution_count": 53,
     "metadata": {},
     "output_type": "execute_result"
    }
   ],
   "source": [
    "tabela_treino.const_empl.agg(lambda x: x.isna().sum() / x.shape[0])"
   ]
  },
  {
   "cell_type": "markdown",
   "metadata": {},
   "source": [
    "Estatísticas Descritivas "
   ]
  },
  {
   "cell_type": "code",
   "execution_count": 54,
   "metadata": {},
   "outputs": [
    {
     "data": {
      "text/plain": [
       "count    1.190000e+02\n",
       "mean     2.537072e+06\n",
       "std      4.017810e+05\n",
       "min      1.990790e+06\n",
       "25%      2.105864e+06\n",
       "50%      2.520551e+06\n",
       "75%      2.890302e+06\n",
       "max      3.169971e+06\n",
       "Name: const_empl, dtype: float64"
      ]
     },
     "execution_count": 54,
     "metadata": {},
     "output_type": "execute_result"
    }
   ],
   "source": [
    "tabela_treino.const_empl.describe()"
   ]
  },
  {
   "cell_type": "code",
   "execution_count": 55,
   "metadata": {},
   "outputs": [
    {
     "data": {
      "image/png": "[encoded data removed]",
      "text/plain": [
       "<Figure size 640x480 with 1 Axes>"
      ]
     },
     "metadata": {},
     "output_type": "display_data"
    }
   ],
   "source": [
    "tabela_treino.const_empl.plot()\n",
    "plt.show()"
   ]
  }
 ],
 "metadata": {
  "kernelspec": {
   "display_name": "base",
   "language": "python",
   "name": "python3"
  },
  "language_info": {
   "codemirror_mode": {
    "name": "ipython",
    "version": 3
   },
   "file_extension": ".py",
   "mimetype": "text/x-python",
   "name": "python",
   "nbconvert_exporter": "python",
   "pygments_lexer": "ipython3",
   "version": "3.11.7"
  }
 },
 "nbformat": 4,
 "nbformat_minor": 2
}
